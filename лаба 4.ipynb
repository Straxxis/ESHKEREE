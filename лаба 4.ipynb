{
  "cells": [
    {
      "cell_type": "code",
      "source": [
        "import pandas as pd\n",
        "import numpy as np\n",
        "import matplotlib.pyplot as plt\n",
        "import seaborn as sns\n",
        "\n",
        "from sklearn.preprocessing import MinMaxScaler\n",
        "from sklearn.model_selection import train_test_split\n",
        "from sklearn.preprocessing import StandardScaler\n",
        "from sklearn.linear_model import LogisticRegression\n",
        "from sklearn.metrics import classification_report, confusion_matrix, accuracy_score\n",
        "from imblearn.over_sampling import SMOTE\n",
        "from imblearn.under_sampling import RandomUnderSampler\n",
        "\n",
        "from google.colab import files\n",
        "uploaded = files.upload()\n",
        "\n",
        "\n"
      ],
      "metadata": {
        "id": "dpt9e3hamcH2",
        "outputId": "f0fc98fb-a06c-4d39-ee04-40eda427811b",
        "colab": {
          "base_uri": "https://localhost:8080/",
          "height": 73
        }
      },
      "execution_count": 55,
      "outputs": [
        {
          "output_type": "display_data",
          "data": {
            "text/plain": [
              "<IPython.core.display.HTML object>"
            ],
            "text/html": [
              "\n",
              "     <input type=\"file\" id=\"files-a5dc774c-33e3-4a51-9b91-1d83cb5ab648\" name=\"files[]\" multiple disabled\n",
              "        style=\"border:none\" />\n",
              "     <output id=\"result-a5dc774c-33e3-4a51-9b91-1d83cb5ab648\">\n",
              "      Upload widget is only available when the cell has been executed in the\n",
              "      current browser session. Please rerun this cell to enable.\n",
              "      </output>\n",
              "      <script>// Copyright 2017 Google LLC\n",
              "//\n",
              "// Licensed under the Apache License, Version 2.0 (the \"License\");\n",
              "// you may not use this file except in compliance with the License.\n",
              "// You may obtain a copy of the License at\n",
              "//\n",
              "//      http://www.apache.org/licenses/LICENSE-2.0\n",
              "//\n",
              "// Unless required by applicable law or agreed to in writing, software\n",
              "// distributed under the License is distributed on an \"AS IS\" BASIS,\n",
              "// WITHOUT WARRANTIES OR CONDITIONS OF ANY KIND, either express or implied.\n",
              "// See the License for the specific language governing permissions and\n",
              "// limitations under the License.\n",
              "\n",
              "/**\n",
              " * @fileoverview Helpers for google.colab Python module.\n",
              " */\n",
              "(function(scope) {\n",
              "function span(text, styleAttributes = {}) {\n",
              "  const element = document.createElement('span');\n",
              "  element.textContent = text;\n",
              "  for (const key of Object.keys(styleAttributes)) {\n",
              "    element.style[key] = styleAttributes[key];\n",
              "  }\n",
              "  return element;\n",
              "}\n",
              "\n",
              "// Max number of bytes which will be uploaded at a time.\n",
              "const MAX_PAYLOAD_SIZE = 100 * 1024;\n",
              "\n",
              "function _uploadFiles(inputId, outputId) {\n",
              "  const steps = uploadFilesStep(inputId, outputId);\n",
              "  const outputElement = document.getElementById(outputId);\n",
              "  // Cache steps on the outputElement to make it available for the next call\n",
              "  // to uploadFilesContinue from Python.\n",
              "  outputElement.steps = steps;\n",
              "\n",
              "  return _uploadFilesContinue(outputId);\n",
              "}\n",
              "\n",
              "// This is roughly an async generator (not supported in the browser yet),\n",
              "// where there are multiple asynchronous steps and the Python side is going\n",
              "// to poll for completion of each step.\n",
              "// This uses a Promise to block the python side on completion of each step,\n",
              "// then passes the result of the previous step as the input to the next step.\n",
              "function _uploadFilesContinue(outputId) {\n",
              "  const outputElement = document.getElementById(outputId);\n",
              "  const steps = outputElement.steps;\n",
              "\n",
              "  const next = steps.next(outputElement.lastPromiseValue);\n",
              "  return Promise.resolve(next.value.promise).then((value) => {\n",
              "    // Cache the last promise value to make it available to the next\n",
              "    // step of the generator.\n",
              "    outputElement.lastPromiseValue = value;\n",
              "    return next.value.response;\n",
              "  });\n",
              "}\n",
              "\n",
              "/**\n",
              " * Generator function which is called between each async step of the upload\n",
              " * process.\n",
              " * @param {string} inputId Element ID of the input file picker element.\n",
              " * @param {string} outputId Element ID of the output display.\n",
              " * @return {!Iterable<!Object>} Iterable of next steps.\n",
              " */\n",
              "function* uploadFilesStep(inputId, outputId) {\n",
              "  const inputElement = document.getElementById(inputId);\n",
              "  inputElement.disabled = false;\n",
              "\n",
              "  const outputElement = document.getElementById(outputId);\n",
              "  outputElement.innerHTML = '';\n",
              "\n",
              "  const pickedPromise = new Promise((resolve) => {\n",
              "    inputElement.addEventListener('change', (e) => {\n",
              "      resolve(e.target.files);\n",
              "    });\n",
              "  });\n",
              "\n",
              "  const cancel = document.createElement('button');\n",
              "  inputElement.parentElement.appendChild(cancel);\n",
              "  cancel.textContent = 'Cancel upload';\n",
              "  const cancelPromise = new Promise((resolve) => {\n",
              "    cancel.onclick = () => {\n",
              "      resolve(null);\n",
              "    };\n",
              "  });\n",
              "\n",
              "  // Wait for the user to pick the files.\n",
              "  const files = yield {\n",
              "    promise: Promise.race([pickedPromise, cancelPromise]),\n",
              "    response: {\n",
              "      action: 'starting',\n",
              "    }\n",
              "  };\n",
              "\n",
              "  cancel.remove();\n",
              "\n",
              "  // Disable the input element since further picks are not allowed.\n",
              "  inputElement.disabled = true;\n",
              "\n",
              "  if (!files) {\n",
              "    return {\n",
              "      response: {\n",
              "        action: 'complete',\n",
              "      }\n",
              "    };\n",
              "  }\n",
              "\n",
              "  for (const file of files) {\n",
              "    const li = document.createElement('li');\n",
              "    li.append(span(file.name, {fontWeight: 'bold'}));\n",
              "    li.append(span(\n",
              "        `(${file.type || 'n/a'}) - ${file.size} bytes, ` +\n",
              "        `last modified: ${\n",
              "            file.lastModifiedDate ? file.lastModifiedDate.toLocaleDateString() :\n",
              "                                    'n/a'} - `));\n",
              "    const percent = span('0% done');\n",
              "    li.appendChild(percent);\n",
              "\n",
              "    outputElement.appendChild(li);\n",
              "\n",
              "    const fileDataPromise = new Promise((resolve) => {\n",
              "      const reader = new FileReader();\n",
              "      reader.onload = (e) => {\n",
              "        resolve(e.target.result);\n",
              "      };\n",
              "      reader.readAsArrayBuffer(file);\n",
              "    });\n",
              "    // Wait for the data to be ready.\n",
              "    let fileData = yield {\n",
              "      promise: fileDataPromise,\n",
              "      response: {\n",
              "        action: 'continue',\n",
              "      }\n",
              "    };\n",
              "\n",
              "    // Use a chunked sending to avoid message size limits. See b/62115660.\n",
              "    let position = 0;\n",
              "    do {\n",
              "      const length = Math.min(fileData.byteLength - position, MAX_PAYLOAD_SIZE);\n",
              "      const chunk = new Uint8Array(fileData, position, length);\n",
              "      position += length;\n",
              "\n",
              "      const base64 = btoa(String.fromCharCode.apply(null, chunk));\n",
              "      yield {\n",
              "        response: {\n",
              "          action: 'append',\n",
              "          file: file.name,\n",
              "          data: base64,\n",
              "        },\n",
              "      };\n",
              "\n",
              "      let percentDone = fileData.byteLength === 0 ?\n",
              "          100 :\n",
              "          Math.round((position / fileData.byteLength) * 100);\n",
              "      percent.textContent = `${percentDone}% done`;\n",
              "\n",
              "    } while (position < fileData.byteLength);\n",
              "  }\n",
              "\n",
              "  // All done.\n",
              "  yield {\n",
              "    response: {\n",
              "      action: 'complete',\n",
              "    }\n",
              "  };\n",
              "}\n",
              "\n",
              "scope.google = scope.google || {};\n",
              "scope.google.colab = scope.google.colab || {};\n",
              "scope.google.colab._files = {\n",
              "  _uploadFiles,\n",
              "  _uploadFilesContinue,\n",
              "};\n",
              "})(self);\n",
              "</script> "
            ]
          },
          "metadata": {}
        },
        {
          "output_type": "stream",
          "name": "stdout",
          "text": [
            "Saving income (1).csv to income (1) (2).csv\n"
          ]
        }
      ]
    },
    {
      "cell_type": "code",
      "source": [
        "df = pd.read_csv(open('income (1).csv', 'rb'))\n",
        "df = df.rename(columns={'marital-status': 'maritalstatus'})\n",
        "df = df.rename(columns={'native-country': 'nativecountry'})\n",
        "\n",
        "df['old_employers'] = np.where(df['age'] >= 50, 1, 0).astype(int)\n",
        "df.old_employers = df.old_employers.astype('category')\n",
        "df.workclass = df.workclass.astype('category')\n",
        "df.education = df.education.astype('category')\n",
        "df.maritalstatus = df.maritalstatus.astype('category')\n",
        "df.occupation = df.occupation.astype('category')\n",
        "df.relationship = df.relationship.astype('category')\n",
        "df.race = df.race.astype('category')\n",
        "df.sex = df.sex.astype('category')\n",
        "df.nativecountry = df.nativecountry.astype('category')\n",
        "\n",
        "Y = df['old_employers'] # выбираем целевую переменную (категориальную)\n",
        "X = df.drop('old_employers', axis=1) # переменные для проверки влияния\n",
        "\n",
        "# В моем случае я дропаю базовую переменную, а не только. Y\n",
        "X = X.drop('age', axis=1)\n",
        "df.drop('age', axis=1).info()"
      ],
      "metadata": {
        "id": "D1PL9wwknoQc",
        "outputId": "090a0d42-ed76-4c45-e22a-33ddca19c7a1",
        "colab": {
          "base_uri": "https://localhost:8080/"
        }
      },
      "execution_count": 42,
      "outputs": [
        {
          "output_type": "stream",
          "name": "stdout",
          "text": [
            "<class 'pandas.core.frame.DataFrame'>\n",
            "RangeIndex: 32561 entries, 0 to 32560\n",
            "Data columns (total 14 columns):\n",
            " #   Column          Non-Null Count  Dtype   \n",
            "---  ------          --------------  -----   \n",
            " 0   workclass       30725 non-null  category\n",
            " 1   education       32561 non-null  category\n",
            " 2   education-num   32561 non-null  int64   \n",
            " 3   maritalstatus   32561 non-null  category\n",
            " 4   occupation      30718 non-null  category\n",
            " 5   relationship    32561 non-null  category\n",
            " 6   race            32561 non-null  category\n",
            " 7   sex             32561 non-null  category\n",
            " 8   capital-gain    32561 non-null  int64   \n",
            " 9   capital-loss    32561 non-null  int64   \n",
            " 10  hours-per-week  32561 non-null  int64   \n",
            " 11  nativecountry   31978 non-null  category\n",
            " 12  income >50K     32561 non-null  int64   \n",
            " 13  old_employers   32561 non-null  category\n",
            "dtypes: category(9), int64(5)\n",
            "memory usage: 1.5 MB\n"
          ]
        }
      ]
    },
    {
      "cell_type": "code",
      "source": [
        "# Создаем копию данных\n",
        "category_columns: list[str] = X.select_dtypes(include=['category']).columns # собираем колонки помеченные как category\n",
        "\n",
        "# Применяем One-Hot Encoding\n",
        "X = pd.get_dummies(X, columns=category_columns,drop_first=True) # drop_first=True позволяет избежать мультиколлинеарности, удаляя первый уровень категориальной переменной.\n",
        "\n",
        ""
      ],
      "metadata": {
        "id": "56KvMNUXn65p"
      },
      "execution_count": 9,
      "outputs": []
    },
    {
      "cell_type": "code",
      "source": [
        "Y.value_counts()"
      ],
      "metadata": {
        "id": "srE2UD8rn9aK",
        "outputId": "461d22eb-91d3-462d-ddf9-56892008da85",
        "colab": {
          "base_uri": "https://localhost:8080/",
          "height": 178
        }
      },
      "execution_count": 43,
      "outputs": [
        {
          "output_type": "execute_result",
          "data": {
            "text/plain": [
              "old_employers\n",
              "0    25499\n",
              "1     7062\n",
              "Name: count, dtype: int64"
            ],
            "text/html": [
              "<div>\n",
              "<style scoped>\n",
              "    .dataframe tbody tr th:only-of-type {\n",
              "        vertical-align: middle;\n",
              "    }\n",
              "\n",
              "    .dataframe tbody tr th {\n",
              "        vertical-align: top;\n",
              "    }\n",
              "\n",
              "    .dataframe thead th {\n",
              "        text-align: right;\n",
              "    }\n",
              "</style>\n",
              "<table border=\"1\" class=\"dataframe\">\n",
              "  <thead>\n",
              "    <tr style=\"text-align: right;\">\n",
              "      <th></th>\n",
              "      <th>count</th>\n",
              "    </tr>\n",
              "    <tr>\n",
              "      <th>old_employers</th>\n",
              "      <th></th>\n",
              "    </tr>\n",
              "  </thead>\n",
              "  <tbody>\n",
              "    <tr>\n",
              "      <th>0</th>\n",
              "      <td>25499</td>\n",
              "    </tr>\n",
              "    <tr>\n",
              "      <th>1</th>\n",
              "      <td>7062</td>\n",
              "    </tr>\n",
              "  </tbody>\n",
              "</table>\n",
              "</div><br><label><b>dtype:</b> int64</label>"
            ]
          },
          "metadata": {},
          "execution_count": 43
        }
      ]
    },
    {
      "cell_type": "code",
      "source": [
        "from sklearn.utils import resample\n",
        "\n",
        "# Объединяем X и y для удобства\n",
        "data = pd.concat([X, Y], axis=1)\n",
        "\n",
        "# Разделяем на классы\n",
        "majority = data[data['old_employers'] == 0]\n",
        "minority = data[data['old_employers'] == 1]\n",
        "\n",
        "# Уменьшаем количество экземпляров класса 1\n",
        "minority_downsampled = resample(minority,\n",
        "                                replace=False,\n",
        "                                n_samples=int(len(majority)*0.1),\n",
        "                                random_state=42)\n",
        "\n",
        "# Объединяем обратно\n",
        "data_disbalanced = pd.concat([majority, minority_downsampled])\n",
        "\n",
        "# Новые X и y\n",
        "X_disbalanced = data_disbalanced.drop('old_employers', axis=1)\n",
        "Y_disbalanced = data_disbalanced['old_employers']\n",
        "\n",
        ""
      ],
      "metadata": {
        "id": "DxrYFR53oPpr"
      },
      "execution_count": 13,
      "outputs": []
    },
    {
      "cell_type": "code",
      "source": [
        "print(Y_disbalanced.value_counts())"
      ],
      "metadata": {
        "id": "mS36yjUYoLqQ",
        "outputId": "17a9e811-4828-4727-e43b-9feb53625cae",
        "colab": {
          "base_uri": "https://localhost:8080/"
        }
      },
      "execution_count": 14,
      "outputs": [
        {
          "output_type": "stream",
          "name": "stdout",
          "text": [
            "old_employers\n",
            "0    25499\n",
            "1     2549\n",
            "Name: count, dtype: int64\n"
          ]
        }
      ]
    },
    {
      "cell_type": "code",
      "source": [
        "from sklearn.model_selection import train_test_split\n",
        "from sklearn.linear_model import LogisticRegression\n",
        "\n",
        "# Разделяем данные на обучающую и тестовую выборки\n",
        "X_train, X_test, y_train, y_test = train_test_split(X_disbalanced, Y_disbalanced, test_size=0.3, random_state=42)\n",
        "\n",
        "# Обучаем модель\n",
        "model = LogisticRegression(penalty=None, solver='saga', max_iter=10000)\n",
        "model.fit(X_train, y_train)\n",
        "\n",
        "# Предсказания\n",
        "y_pred = model.predict(X_test)"
      ],
      "metadata": {
        "id": "t9wCd-RSoSfy"
      },
      "execution_count": 15,
      "outputs": []
    },
    {
      "cell_type": "code",
      "source": [
        "from sklearn.metrics import classification_report, accuracy_score\n",
        "\n",
        "print(\"Accuracy:\", accuracy_score(y_test, y_pred))\n",
        "print(\"\\nClassification Report:\\n\", classification_report(y_test, y_pred))"
      ],
      "metadata": {
        "id": "9igGzV0No1pA",
        "outputId": "50bb8b24-266d-4eee-9f47-be9af86df56c",
        "colab": {
          "base_uri": "https://localhost:8080/"
        }
      },
      "execution_count": 16,
      "outputs": [
        {
          "output_type": "stream",
          "name": "stdout",
          "text": [
            "Accuracy: 0.9114676173499703\n",
            "\n",
            "Classification Report:\n",
            "               precision    recall  f1-score   support\n",
            "\n",
            "           0       0.91      1.00      0.95      7670\n",
            "           1       0.00      0.00      0.00       745\n",
            "\n",
            "    accuracy                           0.91      8415\n",
            "   macro avg       0.46      0.50      0.48      8415\n",
            "weighted avg       0.83      0.91      0.87      8415\n",
            "\n"
          ]
        },
        {
          "output_type": "stream",
          "name": "stderr",
          "text": [
            "/usr/local/lib/python3.11/dist-packages/sklearn/metrics/_classification.py:1565: UndefinedMetricWarning: Precision is ill-defined and being set to 0.0 in labels with no predicted samples. Use `zero_division` parameter to control this behavior.\n",
            "  _warn_prf(average, modifier, f\"{metric.capitalize()} is\", len(result))\n",
            "/usr/local/lib/python3.11/dist-packages/sklearn/metrics/_classification.py:1565: UndefinedMetricWarning: Precision is ill-defined and being set to 0.0 in labels with no predicted samples. Use `zero_division` parameter to control this behavior.\n",
            "  _warn_prf(average, modifier, f\"{metric.capitalize()} is\", len(result))\n",
            "/usr/local/lib/python3.11/dist-packages/sklearn/metrics/_classification.py:1565: UndefinedMetricWarning: Precision is ill-defined and being set to 0.0 in labels with no predicted samples. Use `zero_division` parameter to control this behavior.\n",
            "  _warn_prf(average, modifier, f\"{metric.capitalize()} is\", len(result))\n"
          ]
        }
      ]
    },
    {
      "cell_type": "code",
      "source": [
        "unique, counts = np.unique(y_pred, return_counts=True) # получаем уникальные значения и их количество в предсказанных данных\n",
        "\n",
        "dict(zip(unique, counts)) # данная ситуация называется переобучением. Модель очень хорошо обучилась на 0,"
      ],
      "metadata": {
        "id": "z0S1ZQXAo2vy",
        "outputId": "a97d1f97-eba8-4393-cd7c-3f43a644de94",
        "colab": {
          "base_uri": "https://localhost:8080/"
        }
      },
      "execution_count": 17,
      "outputs": [
        {
          "output_type": "execute_result",
          "data": {
            "text/plain": [
              "{0: 8415}"
            ]
          },
          "metadata": {},
          "execution_count": 17
        }
      ]
    },
    {
      "cell_type": "code",
      "source": [
        "# Уменьшаем количество экземпляров класса 0\n",
        "majority_downsampled = resample(majority,\n",
        "                                replace=False,\n",
        "                                n_samples=len(minority),\n",
        "                                random_state=42)\n",
        "\n",
        "# Объединяем обратно\n",
        "data_balanced = pd.concat([majority_downsampled, minority])\n",
        "\n",
        "# Новые X и y\n",
        "X_balanced = data_balanced.drop('old_employers', axis=1)\n",
        "Y_balanced = data_balanced['old_employers']"
      ],
      "metadata": {
        "id": "96lvTrgjo7-C"
      },
      "execution_count": 18,
      "outputs": []
    },
    {
      "cell_type": "code",
      "source": [
        "print(Y_balanced.value_counts())"
      ],
      "metadata": {
        "id": "KxlljZPDo_C-",
        "outputId": "c6583e3c-2e87-497a-c3f2-547ee8be7e3e",
        "colab": {
          "base_uri": "https://localhost:8080/"
        }
      },
      "execution_count": 19,
      "outputs": [
        {
          "output_type": "stream",
          "name": "stdout",
          "text": [
            "old_employers\n",
            "0    7062\n",
            "1    7062\n",
            "Name: count, dtype: int64\n"
          ]
        }
      ]
    },
    {
      "cell_type": "code",
      "source": [
        "# Разделяем данные\n",
        "X_train_bal, X_test_bal, y_train_bal, y_test_bal = train_test_split(X_balanced, Y_balanced, test_size=0.3, random_state=42)\n",
        "\n",
        "# Обучаем модель\n",
        "model_balanced = LogisticRegression(penalty=None, solver='saga', max_iter=10000)\n",
        "model_balanced.fit(X_train_bal, y_train_bal)\n",
        "\n",
        "# Предсказания\n",
        "y_pred_bal = model_balanced.predict(X_test_bal)"
      ],
      "metadata": {
        "id": "AC_lmUd6pA0c"
      },
      "execution_count": 20,
      "outputs": []
    },
    {
      "cell_type": "code",
      "source": [
        "print(\"Accuracy:\", accuracy_score(y_test_bal, y_pred_bal))\n",
        "print(\"\\nClassification Report:\\n\", classification_report(y_test_bal, y_pred_bal))"
      ],
      "metadata": {
        "id": "lxvvIYG_qebA",
        "outputId": "465c7cc5-20d9-4618-fc35-1bde56facbc2",
        "colab": {
          "base_uri": "https://localhost:8080/"
        }
      },
      "execution_count": 21,
      "outputs": [
        {
          "output_type": "stream",
          "name": "stdout",
          "text": [
            "Accuracy: 0.5283152430391694\n",
            "\n",
            "Classification Report:\n",
            "               precision    recall  f1-score   support\n",
            "\n",
            "           0       0.51      0.90      0.65      2109\n",
            "           1       0.61      0.16      0.26      2129\n",
            "\n",
            "    accuracy                           0.53      4238\n",
            "   macro avg       0.56      0.53      0.46      4238\n",
            "weighted avg       0.56      0.53      0.46      4238\n",
            "\n"
          ]
        }
      ]
    },
    {
      "cell_type": "code",
      "source": [
        "\n",
        "unique, counts = np.unique(y_pred_bal, return_counts=True)\n",
        "\n",
        "dict(zip(unique, counts))\n",
        ""
      ],
      "metadata": {
        "id": "wP5VSRPEqfVw",
        "outputId": "834c892c-c964-464c-ae4f-35e84c4b72c4",
        "colab": {
          "base_uri": "https://localhost:8080/"
        }
      },
      "execution_count": 22,
      "outputs": [
        {
          "output_type": "execute_result",
          "data": {
            "text/plain": [
              "{0: 3668, 1: 570}"
            ]
          },
          "metadata": {},
          "execution_count": 22
        }
      ]
    },
    {
      "cell_type": "code",
      "source": [
        "# Выбираем числовые признаки\n",
        "numeric_features = X_balanced.select_dtypes(include=['int64']).columns.tolist()\n",
        "\n",
        "# Инициализируем scaler\n",
        "scaler = MinMaxScaler()\n",
        "\n",
        "# Применяем нормализацию\n",
        "X_balanced[numeric_features] = scaler.fit_transform(X_balanced[numeric_features])"
      ],
      "metadata": {
        "id": "zMlW_pBCqieh"
      },
      "execution_count": 23,
      "outputs": []
    },
    {
      "cell_type": "code",
      "source": [
        "# Разделяем данные\n",
        "X_train_bal, X_test_bal, y_train_bal, y_test_bal = train_test_split(X_balanced, Y_balanced, test_size=0.3, random_state=42)\n",
        "\n",
        "# Обучаем модель\n",
        "model_balanced = LogisticRegression(penalty=None, solver='saga', max_iter=10000)\n",
        "model_balanced.fit(X_train_bal, y_train_bal)\n",
        "\n",
        "# Предсказания\n",
        "y_pred_bal = model_balanced.predict(X_test_bal)"
      ],
      "metadata": {
        "id": "v0-dhHDdqmVp"
      },
      "execution_count": 24,
      "outputs": []
    },
    {
      "cell_type": "code",
      "source": [
        "print(\"Accuracy:\", accuracy_score(y_test_bal, y_pred_bal))\n",
        "print(\"\\nClassification Report:\\n\", classification_report(y_test_bal, y_pred_bal)) # Дополнительно получили 1.57% точности, отлично!"
      ],
      "metadata": {
        "id": "TfEHtlPqs8T5",
        "outputId": "0e1300b6-032a-42fe-d674-5af8fbe46f03",
        "colab": {
          "base_uri": "https://localhost:8080/"
        }
      },
      "execution_count": 25,
      "outputs": [
        {
          "output_type": "stream",
          "name": "stdout",
          "text": [
            "Accuracy: 0.7168475696083058\n",
            "\n",
            "Classification Report:\n",
            "               precision    recall  f1-score   support\n",
            "\n",
            "           0       0.76      0.63      0.69      2109\n",
            "           1       0.69      0.80      0.74      2129\n",
            "\n",
            "    accuracy                           0.72      4238\n",
            "   macro avg       0.72      0.72      0.71      4238\n",
            "weighted avg       0.72      0.72      0.71      4238\n",
            "\n"
          ]
        }
      ]
    },
    {
      "cell_type": "code",
      "source": [
        "unique, counts = np.unique(y_pred_bal, return_counts=True) # получаем уникальные значения и их количество в предсказанных данных\n",
        "\n",
        "dict(zip(unique, counts)) # Текущая модель показывает неплохие результаты. Попробуем улучшить"
      ],
      "metadata": {
        "id": "0KgEdIx6s_yd",
        "outputId": "5032b91a-4c14-4f89-e2c5-5710275e5c0b",
        "colab": {
          "base_uri": "https://localhost:8080/"
        }
      },
      "execution_count": 26,
      "outputs": [
        {
          "output_type": "execute_result",
          "data": {
            "text/plain": [
              "{0: 1769, 1: 2469}"
            ]
          },
          "metadata": {},
          "execution_count": 26
        }
      ]
    },
    {
      "cell_type": "code",
      "source": [
        "# Разделяем данные\n",
        "X_train_bal, X_test_bal, y_train_bal, y_test_bal = train_test_split(X_balanced, Y_balanced, test_size=0.3, random_state=42)\n",
        "\n",
        "# Обучаем модель\n",
        "model_balanced = LogisticRegression(penalty=None, solver='saga', max_iter=10000)\n",
        "model_balanced.fit(X_train_bal, y_train_bal)\n",
        "\n",
        "# Предсказания\n",
        "y_pred_bal = model_balanced.predict(X_test_bal)"
      ],
      "metadata": {
        "id": "fh_3HxK_tCSL"
      },
      "execution_count": 27,
      "outputs": []
    },
    {
      "cell_type": "code",
      "source": [
        "from sklearn.metrics import classification_report, confusion_matrix, accuracy_score, precision_score, recall_score, f1_score, roc_auc_score\n",
        "# Вычисляем матрицу ошибок (TP, FP, TN, FN)\n",
        "conf_matrix = confusion_matrix(y_test_bal, y_pred_bal)\n",
        "tn, fp, fn, tp = conf_matrix.ravel()\n",
        "\n",
        "# Рассчитываем метрики\n",
        "accuracy = accuracy_score(y_test_bal, y_pred_bal)\n",
        "precision = precision_score(y_test_bal, y_pred_bal)\n",
        "recall = recall_score(y_test_bal, y_pred_bal)\n",
        "f1 = f1_score(y_test_bal, y_pred_bal)\n",
        "roc_auc = roc_auc_score(y_test_bal, y_pred_bal)\n",
        "\n",
        "# Генерируем classification_report\n",
        "class_report = classification_report(y_test_bal, y_pred_bal, output_dict=True)\n",
        "\n",
        "# Формируем результаты для наглядного вывода\n",
        "results = {\n",
        "    \"True Negatives (TN)\": tn,\n",
        "    \"False Positives (FP)\": fp,\n",
        "    \"False Negatives (FN)\": fn,\n",
        "    \"True Positives (TP)\": tp,\n",
        "    \"Accuracy\": accuracy,\n",
        "    \"Precision\": precision,\n",
        "    \"Recall\": recall,\n",
        "    \"F1-score\": f1,\n",
        "    \"ROC-AUC\": roc_auc,\n",
        "}\n",
        "\n",
        "# Округляем все значения в словаре до двух знаков после запятой и возвращаем в виде dict.items()\n",
        "rounded_items = {k: round(v, 2) for k, v in results.items()}"
      ],
      "metadata": {
        "id": "dvyFRgYotN-D"
      },
      "execution_count": 28,
      "outputs": []
    },
    {
      "cell_type": "code",
      "source": [
        "print(classification_report(y_test_bal, y_pred_bal))"
      ],
      "metadata": {
        "id": "bftQo85GtPJp",
        "outputId": "189f5dd9-0288-407c-d547-aa10b399b0ca",
        "colab": {
          "base_uri": "https://localhost:8080/"
        }
      },
      "execution_count": 29,
      "outputs": [
        {
          "output_type": "stream",
          "name": "stdout",
          "text": [
            "              precision    recall  f1-score   support\n",
            "\n",
            "           0       0.76      0.63      0.69      2109\n",
            "           1       0.69      0.80      0.74      2129\n",
            "\n",
            "    accuracy                           0.72      4238\n",
            "   macro avg       0.72      0.72      0.71      4238\n",
            "weighted avg       0.72      0.72      0.71      4238\n",
            "\n"
          ]
        }
      ]
    },
    {
      "cell_type": "code",
      "source": [
        "conf_matrix # Матрица\n",
        "# TN FP\n",
        "# FN TP"
      ],
      "metadata": {
        "id": "dubLks0StSZ3",
        "outputId": "ee436bd1-0a28-4685-a339-425bae599467",
        "colab": {
          "base_uri": "https://localhost:8080/"
        }
      },
      "execution_count": 30,
      "outputs": [
        {
          "output_type": "execute_result",
          "data": {
            "text/plain": [
              "array([[1339,  770],\n",
              "       [ 430, 1699]])"
            ]
          },
          "metadata": {},
          "execution_count": 30
        }
      ]
    },
    {
      "cell_type": "code",
      "source": [
        "rounded_items"
      ],
      "metadata": {
        "id": "k5f5QPIGtTOJ",
        "outputId": "93788f10-541a-400e-b73e-d5e67e975380",
        "colab": {
          "base_uri": "https://localhost:8080/"
        }
      },
      "execution_count": 31,
      "outputs": [
        {
          "output_type": "execute_result",
          "data": {
            "text/plain": [
              "{'True Negatives (TN)': 1339,\n",
              " 'False Positives (FP)': 770,\n",
              " 'False Negatives (FN)': 430,\n",
              " 'True Positives (TP)': 1699,\n",
              " 'Accuracy': 0.72,\n",
              " 'Precision': 0.69,\n",
              " 'Recall': 0.8,\n",
              " 'F1-score': 0.74,\n",
              " 'ROC-AUC': 0.72}"
            ]
          },
          "metadata": {},
          "execution_count": 31
        }
      ]
    },
    {
      "cell_type": "code",
      "source": [
        "y = df['hours-per-week']\n",
        "\n",
        "X = df.drop(['hours-per-week', 'old_employers'], axis=1)"
      ],
      "metadata": {
        "id": "7-P4KXxktU_b"
      },
      "execution_count": 32,
      "outputs": []
    },
    {
      "cell_type": "code",
      "source": [
        "# Создаем копию данных\n",
        "category_columns: list[str] = X.select_dtypes(include=['category']).columns # собираем колонки помеченные как category\n",
        "\n",
        "# Применяем One-Hot Encoding\n",
        "X = pd.get_dummies(X, columns=category_columns,drop_first=True) # drop_first=True позволяет избежать мультиколлинеарности, удаляя первый уровень категориальной переменной.\n",
        "\n",
        ""
      ],
      "metadata": {
        "id": "aBWmAiajtW4R"
      },
      "execution_count": 33,
      "outputs": []
    },
    {
      "cell_type": "code",
      "source": [
        "X"
      ],
      "metadata": {
        "id": "nbpUOSbHtY6f",
        "outputId": "adb44891-43d7-43fa-d758-243d9c9107c7",
        "colab": {
          "base_uri": "https://localhost:8080/",
          "height": 461
        }
      },
      "execution_count": 34,
      "outputs": [
        {
          "output_type": "execute_result",
          "data": {
            "text/plain": [
              "       age  education-num  capital-gain  capital-loss  income >50K  \\\n",
              "0       39             13          2174             0            0   \n",
              "1       50             13             0             0            0   \n",
              "2       38              9             0             0            0   \n",
              "3       53              7             0             0            0   \n",
              "4       28             13             0             0            0   \n",
              "...    ...            ...           ...           ...          ...   \n",
              "32556   27             12             0             0            0   \n",
              "32557   40              9             0             0            1   \n",
              "32558   58              9             0             0            0   \n",
              "32559   22              9             0             0            0   \n",
              "32560   52              9         15024             0            1   \n",
              "\n",
              "       workclass_Local-gov  workclass_Never-worked  workclass_Private  \\\n",
              "0                    False                   False              False   \n",
              "1                    False                   False              False   \n",
              "2                    False                   False               True   \n",
              "3                    False                   False               True   \n",
              "4                    False                   False               True   \n",
              "...                    ...                     ...                ...   \n",
              "32556                False                   False               True   \n",
              "32557                False                   False               True   \n",
              "32558                False                   False               True   \n",
              "32559                False                   False               True   \n",
              "32560                False                   False              False   \n",
              "\n",
              "       workclass_Self-emp-inc  workclass_Self-emp-not-inc  ...  \\\n",
              "0                       False                       False  ...   \n",
              "1                       False                        True  ...   \n",
              "2                       False                       False  ...   \n",
              "3                       False                       False  ...   \n",
              "4                       False                       False  ...   \n",
              "...                       ...                         ...  ...   \n",
              "32556                   False                       False  ...   \n",
              "32557                   False                       False  ...   \n",
              "32558                   False                       False  ...   \n",
              "32559                   False                       False  ...   \n",
              "32560                    True                       False  ...   \n",
              "\n",
              "       nativecountry_Portugal  nativecountry_Puerto-Rico  \\\n",
              "0                       False                      False   \n",
              "1                       False                      False   \n",
              "2                       False                      False   \n",
              "3                       False                      False   \n",
              "4                       False                      False   \n",
              "...                       ...                        ...   \n",
              "32556                   False                      False   \n",
              "32557                   False                      False   \n",
              "32558                   False                      False   \n",
              "32559                   False                      False   \n",
              "32560                   False                      False   \n",
              "\n",
              "       nativecountry_Scotland  nativecountry_South  nativecountry_Taiwan  \\\n",
              "0                       False                False                 False   \n",
              "1                       False                False                 False   \n",
              "2                       False                False                 False   \n",
              "3                       False                False                 False   \n",
              "4                       False                False                 False   \n",
              "...                       ...                  ...                   ...   \n",
              "32556                   False                False                 False   \n",
              "32557                   False                False                 False   \n",
              "32558                   False                False                 False   \n",
              "32559                   False                False                 False   \n",
              "32560                   False                False                 False   \n",
              "\n",
              "       nativecountry_Thailand  nativecountry_Trinadad&Tobago  \\\n",
              "0                       False                          False   \n",
              "1                       False                          False   \n",
              "2                       False                          False   \n",
              "3                       False                          False   \n",
              "4                       False                          False   \n",
              "...                       ...                            ...   \n",
              "32556                   False                          False   \n",
              "32557                   False                          False   \n",
              "32558                   False                          False   \n",
              "32559                   False                          False   \n",
              "32560                   False                          False   \n",
              "\n",
              "       nativecountry_United-States  nativecountry_Vietnam  \\\n",
              "0                             True                  False   \n",
              "1                             True                  False   \n",
              "2                             True                  False   \n",
              "3                             True                  False   \n",
              "4                            False                  False   \n",
              "...                            ...                    ...   \n",
              "32556                         True                  False   \n",
              "32557                         True                  False   \n",
              "32558                         True                  False   \n",
              "32559                         True                  False   \n",
              "32560                         True                  False   \n",
              "\n",
              "       nativecountry_Yugoslavia  \n",
              "0                         False  \n",
              "1                         False  \n",
              "2                         False  \n",
              "3                         False  \n",
              "4                         False  \n",
              "...                         ...  \n",
              "32556                     False  \n",
              "32557                     False  \n",
              "32558                     False  \n",
              "32559                     False  \n",
              "32560                     False  \n",
              "\n",
              "[32561 rows x 96 columns]"
            ],
            "text/html": [
              "\n",
              "  <div id=\"df-8f54b413-739c-4ad8-aade-f8e33ff63039\" class=\"colab-df-container\">\n",
              "    <div>\n",
              "<style scoped>\n",
              "    .dataframe tbody tr th:only-of-type {\n",
              "        vertical-align: middle;\n",
              "    }\n",
              "\n",
              "    .dataframe tbody tr th {\n",
              "        vertical-align: top;\n",
              "    }\n",
              "\n",
              "    .dataframe thead th {\n",
              "        text-align: right;\n",
              "    }\n",
              "</style>\n",
              "<table border=\"1\" class=\"dataframe\">\n",
              "  <thead>\n",
              "    <tr style=\"text-align: right;\">\n",
              "      <th></th>\n",
              "      <th>age</th>\n",
              "      <th>education-num</th>\n",
              "      <th>capital-gain</th>\n",
              "      <th>capital-loss</th>\n",
              "      <th>income &gt;50K</th>\n",
              "      <th>workclass_Local-gov</th>\n",
              "      <th>workclass_Never-worked</th>\n",
              "      <th>workclass_Private</th>\n",
              "      <th>workclass_Self-emp-inc</th>\n",
              "      <th>workclass_Self-emp-not-inc</th>\n",
              "      <th>...</th>\n",
              "      <th>nativecountry_Portugal</th>\n",
              "      <th>nativecountry_Puerto-Rico</th>\n",
              "      <th>nativecountry_Scotland</th>\n",
              "      <th>nativecountry_South</th>\n",
              "      <th>nativecountry_Taiwan</th>\n",
              "      <th>nativecountry_Thailand</th>\n",
              "      <th>nativecountry_Trinadad&amp;Tobago</th>\n",
              "      <th>nativecountry_United-States</th>\n",
              "      <th>nativecountry_Vietnam</th>\n",
              "      <th>nativecountry_Yugoslavia</th>\n",
              "    </tr>\n",
              "  </thead>\n",
              "  <tbody>\n",
              "    <tr>\n",
              "      <th>0</th>\n",
              "      <td>39</td>\n",
              "      <td>13</td>\n",
              "      <td>2174</td>\n",
              "      <td>0</td>\n",
              "      <td>0</td>\n",
              "      <td>False</td>\n",
              "      <td>False</td>\n",
              "      <td>False</td>\n",
              "      <td>False</td>\n",
              "      <td>False</td>\n",
              "      <td>...</td>\n",
              "      <td>False</td>\n",
              "      <td>False</td>\n",
              "      <td>False</td>\n",
              "      <td>False</td>\n",
              "      <td>False</td>\n",
              "      <td>False</td>\n",
              "      <td>False</td>\n",
              "      <td>True</td>\n",
              "      <td>False</td>\n",
              "      <td>False</td>\n",
              "    </tr>\n",
              "    <tr>\n",
              "      <th>1</th>\n",
              "      <td>50</td>\n",
              "      <td>13</td>\n",
              "      <td>0</td>\n",
              "      <td>0</td>\n",
              "      <td>0</td>\n",
              "      <td>False</td>\n",
              "      <td>False</td>\n",
              "      <td>False</td>\n",
              "      <td>False</td>\n",
              "      <td>True</td>\n",
              "      <td>...</td>\n",
              "      <td>False</td>\n",
              "      <td>False</td>\n",
              "      <td>False</td>\n",
              "      <td>False</td>\n",
              "      <td>False</td>\n",
              "      <td>False</td>\n",
              "      <td>False</td>\n",
              "      <td>True</td>\n",
              "      <td>False</td>\n",
              "      <td>False</td>\n",
              "    </tr>\n",
              "    <tr>\n",
              "      <th>2</th>\n",
              "      <td>38</td>\n",
              "      <td>9</td>\n",
              "      <td>0</td>\n",
              "      <td>0</td>\n",
              "      <td>0</td>\n",
              "      <td>False</td>\n",
              "      <td>False</td>\n",
              "      <td>True</td>\n",
              "      <td>False</td>\n",
              "      <td>False</td>\n",
              "      <td>...</td>\n",
              "      <td>False</td>\n",
              "      <td>False</td>\n",
              "      <td>False</td>\n",
              "      <td>False</td>\n",
              "      <td>False</td>\n",
              "      <td>False</td>\n",
              "      <td>False</td>\n",
              "      <td>True</td>\n",
              "      <td>False</td>\n",
              "      <td>False</td>\n",
              "    </tr>\n",
              "    <tr>\n",
              "      <th>3</th>\n",
              "      <td>53</td>\n",
              "      <td>7</td>\n",
              "      <td>0</td>\n",
              "      <td>0</td>\n",
              "      <td>0</td>\n",
              "      <td>False</td>\n",
              "      <td>False</td>\n",
              "      <td>True</td>\n",
              "      <td>False</td>\n",
              "      <td>False</td>\n",
              "      <td>...</td>\n",
              "      <td>False</td>\n",
              "      <td>False</td>\n",
              "      <td>False</td>\n",
              "      <td>False</td>\n",
              "      <td>False</td>\n",
              "      <td>False</td>\n",
              "      <td>False</td>\n",
              "      <td>True</td>\n",
              "      <td>False</td>\n",
              "      <td>False</td>\n",
              "    </tr>\n",
              "    <tr>\n",
              "      <th>4</th>\n",
              "      <td>28</td>\n",
              "      <td>13</td>\n",
              "      <td>0</td>\n",
              "      <td>0</td>\n",
              "      <td>0</td>\n",
              "      <td>False</td>\n",
              "      <td>False</td>\n",
              "      <td>True</td>\n",
              "      <td>False</td>\n",
              "      <td>False</td>\n",
              "      <td>...</td>\n",
              "      <td>False</td>\n",
              "      <td>False</td>\n",
              "      <td>False</td>\n",
              "      <td>False</td>\n",
              "      <td>False</td>\n",
              "      <td>False</td>\n",
              "      <td>False</td>\n",
              "      <td>False</td>\n",
              "      <td>False</td>\n",
              "      <td>False</td>\n",
              "    </tr>\n",
              "    <tr>\n",
              "      <th>...</th>\n",
              "      <td>...</td>\n",
              "      <td>...</td>\n",
              "      <td>...</td>\n",
              "      <td>...</td>\n",
              "      <td>...</td>\n",
              "      <td>...</td>\n",
              "      <td>...</td>\n",
              "      <td>...</td>\n",
              "      <td>...</td>\n",
              "      <td>...</td>\n",
              "      <td>...</td>\n",
              "      <td>...</td>\n",
              "      <td>...</td>\n",
              "      <td>...</td>\n",
              "      <td>...</td>\n",
              "      <td>...</td>\n",
              "      <td>...</td>\n",
              "      <td>...</td>\n",
              "      <td>...</td>\n",
              "      <td>...</td>\n",
              "      <td>...</td>\n",
              "    </tr>\n",
              "    <tr>\n",
              "      <th>32556</th>\n",
              "      <td>27</td>\n",
              "      <td>12</td>\n",
              "      <td>0</td>\n",
              "      <td>0</td>\n",
              "      <td>0</td>\n",
              "      <td>False</td>\n",
              "      <td>False</td>\n",
              "      <td>True</td>\n",
              "      <td>False</td>\n",
              "      <td>False</td>\n",
              "      <td>...</td>\n",
              "      <td>False</td>\n",
              "      <td>False</td>\n",
              "      <td>False</td>\n",
              "      <td>False</td>\n",
              "      <td>False</td>\n",
              "      <td>False</td>\n",
              "      <td>False</td>\n",
              "      <td>True</td>\n",
              "      <td>False</td>\n",
              "      <td>False</td>\n",
              "    </tr>\n",
              "    <tr>\n",
              "      <th>32557</th>\n",
              "      <td>40</td>\n",
              "      <td>9</td>\n",
              "      <td>0</td>\n",
              "      <td>0</td>\n",
              "      <td>1</td>\n",
              "      <td>False</td>\n",
              "      <td>False</td>\n",
              "      <td>True</td>\n",
              "      <td>False</td>\n",
              "      <td>False</td>\n",
              "      <td>...</td>\n",
              "      <td>False</td>\n",
              "      <td>False</td>\n",
              "      <td>False</td>\n",
              "      <td>False</td>\n",
              "      <td>False</td>\n",
              "      <td>False</td>\n",
              "      <td>False</td>\n",
              "      <td>True</td>\n",
              "      <td>False</td>\n",
              "      <td>False</td>\n",
              "    </tr>\n",
              "    <tr>\n",
              "      <th>32558</th>\n",
              "      <td>58</td>\n",
              "      <td>9</td>\n",
              "      <td>0</td>\n",
              "      <td>0</td>\n",
              "      <td>0</td>\n",
              "      <td>False</td>\n",
              "      <td>False</td>\n",
              "      <td>True</td>\n",
              "      <td>False</td>\n",
              "      <td>False</td>\n",
              "      <td>...</td>\n",
              "      <td>False</td>\n",
              "      <td>False</td>\n",
              "      <td>False</td>\n",
              "      <td>False</td>\n",
              "      <td>False</td>\n",
              "      <td>False</td>\n",
              "      <td>False</td>\n",
              "      <td>True</td>\n",
              "      <td>False</td>\n",
              "      <td>False</td>\n",
              "    </tr>\n",
              "    <tr>\n",
              "      <th>32559</th>\n",
              "      <td>22</td>\n",
              "      <td>9</td>\n",
              "      <td>0</td>\n",
              "      <td>0</td>\n",
              "      <td>0</td>\n",
              "      <td>False</td>\n",
              "      <td>False</td>\n",
              "      <td>True</td>\n",
              "      <td>False</td>\n",
              "      <td>False</td>\n",
              "      <td>...</td>\n",
              "      <td>False</td>\n",
              "      <td>False</td>\n",
              "      <td>False</td>\n",
              "      <td>False</td>\n",
              "      <td>False</td>\n",
              "      <td>False</td>\n",
              "      <td>False</td>\n",
              "      <td>True</td>\n",
              "      <td>False</td>\n",
              "      <td>False</td>\n",
              "    </tr>\n",
              "    <tr>\n",
              "      <th>32560</th>\n",
              "      <td>52</td>\n",
              "      <td>9</td>\n",
              "      <td>15024</td>\n",
              "      <td>0</td>\n",
              "      <td>1</td>\n",
              "      <td>False</td>\n",
              "      <td>False</td>\n",
              "      <td>False</td>\n",
              "      <td>True</td>\n",
              "      <td>False</td>\n",
              "      <td>...</td>\n",
              "      <td>False</td>\n",
              "      <td>False</td>\n",
              "      <td>False</td>\n",
              "      <td>False</td>\n",
              "      <td>False</td>\n",
              "      <td>False</td>\n",
              "      <td>False</td>\n",
              "      <td>True</td>\n",
              "      <td>False</td>\n",
              "      <td>False</td>\n",
              "    </tr>\n",
              "  </tbody>\n",
              "</table>\n",
              "<p>32561 rows × 96 columns</p>\n",
              "</div>\n",
              "    <div class=\"colab-df-buttons\">\n",
              "\n",
              "  <div class=\"colab-df-container\">\n",
              "    <button class=\"colab-df-convert\" onclick=\"convertToInteractive('df-8f54b413-739c-4ad8-aade-f8e33ff63039')\"\n",
              "            title=\"Convert this dataframe to an interactive table.\"\n",
              "            style=\"display:none;\">\n",
              "\n",
              "  <svg xmlns=\"http://www.w3.org/2000/svg\" height=\"24px\" viewBox=\"0 -960 960 960\">\n",
              "    <path d=\"M120-120v-720h720v720H120Zm60-500h600v-160H180v160Zm220 220h160v-160H400v160Zm0 220h160v-160H400v160ZM180-400h160v-160H180v160Zm440 0h160v-160H620v160ZM180-180h160v-160H180v160Zm440 0h160v-160H620v160Z\"/>\n",
              "  </svg>\n",
              "    </button>\n",
              "\n",
              "  <style>\n",
              "    .colab-df-container {\n",
              "      display:flex;\n",
              "      gap: 12px;\n",
              "    }\n",
              "\n",
              "    .colab-df-convert {\n",
              "      background-color: #E8F0FE;\n",
              "      border: none;\n",
              "      border-radius: 50%;\n",
              "      cursor: pointer;\n",
              "      display: none;\n",
              "      fill: #1967D2;\n",
              "      height: 32px;\n",
              "      padding: 0 0 0 0;\n",
              "      width: 32px;\n",
              "    }\n",
              "\n",
              "    .colab-df-convert:hover {\n",
              "      background-color: #E2EBFA;\n",
              "      box-shadow: 0px 1px 2px rgba(60, 64, 67, 0.3), 0px 1px 3px 1px rgba(60, 64, 67, 0.15);\n",
              "      fill: #174EA6;\n",
              "    }\n",
              "\n",
              "    .colab-df-buttons div {\n",
              "      margin-bottom: 4px;\n",
              "    }\n",
              "\n",
              "    [theme=dark] .colab-df-convert {\n",
              "      background-color: #3B4455;\n",
              "      fill: #D2E3FC;\n",
              "    }\n",
              "\n",
              "    [theme=dark] .colab-df-convert:hover {\n",
              "      background-color: #434B5C;\n",
              "      box-shadow: 0px 1px 3px 1px rgba(0, 0, 0, 0.15);\n",
              "      filter: drop-shadow(0px 1px 2px rgba(0, 0, 0, 0.3));\n",
              "      fill: #FFFFFF;\n",
              "    }\n",
              "  </style>\n",
              "\n",
              "    <script>\n",
              "      const buttonEl =\n",
              "        document.querySelector('#df-8f54b413-739c-4ad8-aade-f8e33ff63039 button.colab-df-convert');\n",
              "      buttonEl.style.display =\n",
              "        google.colab.kernel.accessAllowed ? 'block' : 'none';\n",
              "\n",
              "      async function convertToInteractive(key) {\n",
              "        const element = document.querySelector('#df-8f54b413-739c-4ad8-aade-f8e33ff63039');\n",
              "        const dataTable =\n",
              "          await google.colab.kernel.invokeFunction('convertToInteractive',\n",
              "                                                    [key], {});\n",
              "        if (!dataTable) return;\n",
              "\n",
              "        const docLinkHtml = 'Like what you see? Visit the ' +\n",
              "          '<a target=\"_blank\" href=https://colab.research.google.com/notebooks/data_table.ipynb>data table notebook</a>'\n",
              "          + ' to learn more about interactive tables.';\n",
              "        element.innerHTML = '';\n",
              "        dataTable['output_type'] = 'display_data';\n",
              "        await google.colab.output.renderOutput(dataTable, element);\n",
              "        const docLink = document.createElement('div');\n",
              "        docLink.innerHTML = docLinkHtml;\n",
              "        element.appendChild(docLink);\n",
              "      }\n",
              "    </script>\n",
              "  </div>\n",
              "\n",
              "\n",
              "<div id=\"df-f1aa0686-dad2-446b-9278-8f35ba1a1a5e\">\n",
              "  <button class=\"colab-df-quickchart\" onclick=\"quickchart('df-f1aa0686-dad2-446b-9278-8f35ba1a1a5e')\"\n",
              "            title=\"Suggest charts\"\n",
              "            style=\"display:none;\">\n",
              "\n",
              "<svg xmlns=\"http://www.w3.org/2000/svg\" height=\"24px\"viewBox=\"0 0 24 24\"\n",
              "     width=\"24px\">\n",
              "    <g>\n",
              "        <path d=\"M19 3H5c-1.1 0-2 .9-2 2v14c0 1.1.9 2 2 2h14c1.1 0 2-.9 2-2V5c0-1.1-.9-2-2-2zM9 17H7v-7h2v7zm4 0h-2V7h2v10zm4 0h-2v-4h2v4z\"/>\n",
              "    </g>\n",
              "</svg>\n",
              "  </button>\n",
              "\n",
              "<style>\n",
              "  .colab-df-quickchart {\n",
              "      --bg-color: #E8F0FE;\n",
              "      --fill-color: #1967D2;\n",
              "      --hover-bg-color: #E2EBFA;\n",
              "      --hover-fill-color: #174EA6;\n",
              "      --disabled-fill-color: #AAA;\n",
              "      --disabled-bg-color: #DDD;\n",
              "  }\n",
              "\n",
              "  [theme=dark] .colab-df-quickchart {\n",
              "      --bg-color: #3B4455;\n",
              "      --fill-color: #D2E3FC;\n",
              "      --hover-bg-color: #434B5C;\n",
              "      --hover-fill-color: #FFFFFF;\n",
              "      --disabled-bg-color: #3B4455;\n",
              "      --disabled-fill-color: #666;\n",
              "  }\n",
              "\n",
              "  .colab-df-quickchart {\n",
              "    background-color: var(--bg-color);\n",
              "    border: none;\n",
              "    border-radius: 50%;\n",
              "    cursor: pointer;\n",
              "    display: none;\n",
              "    fill: var(--fill-color);\n",
              "    height: 32px;\n",
              "    padding: 0;\n",
              "    width: 32px;\n",
              "  }\n",
              "\n",
              "  .colab-df-quickchart:hover {\n",
              "    background-color: var(--hover-bg-color);\n",
              "    box-shadow: 0 1px 2px rgba(60, 64, 67, 0.3), 0 1px 3px 1px rgba(60, 64, 67, 0.15);\n",
              "    fill: var(--button-hover-fill-color);\n",
              "  }\n",
              "\n",
              "  .colab-df-quickchart-complete:disabled,\n",
              "  .colab-df-quickchart-complete:disabled:hover {\n",
              "    background-color: var(--disabled-bg-color);\n",
              "    fill: var(--disabled-fill-color);\n",
              "    box-shadow: none;\n",
              "  }\n",
              "\n",
              "  .colab-df-spinner {\n",
              "    border: 2px solid var(--fill-color);\n",
              "    border-color: transparent;\n",
              "    border-bottom-color: var(--fill-color);\n",
              "    animation:\n",
              "      spin 1s steps(1) infinite;\n",
              "  }\n",
              "\n",
              "  @keyframes spin {\n",
              "    0% {\n",
              "      border-color: transparent;\n",
              "      border-bottom-color: var(--fill-color);\n",
              "      border-left-color: var(--fill-color);\n",
              "    }\n",
              "    20% {\n",
              "      border-color: transparent;\n",
              "      border-left-color: var(--fill-color);\n",
              "      border-top-color: var(--fill-color);\n",
              "    }\n",
              "    30% {\n",
              "      border-color: transparent;\n",
              "      border-left-color: var(--fill-color);\n",
              "      border-top-color: var(--fill-color);\n",
              "      border-right-color: var(--fill-color);\n",
              "    }\n",
              "    40% {\n",
              "      border-color: transparent;\n",
              "      border-right-color: var(--fill-color);\n",
              "      border-top-color: var(--fill-color);\n",
              "    }\n",
              "    60% {\n",
              "      border-color: transparent;\n",
              "      border-right-color: var(--fill-color);\n",
              "    }\n",
              "    80% {\n",
              "      border-color: transparent;\n",
              "      border-right-color: var(--fill-color);\n",
              "      border-bottom-color: var(--fill-color);\n",
              "    }\n",
              "    90% {\n",
              "      border-color: transparent;\n",
              "      border-bottom-color: var(--fill-color);\n",
              "    }\n",
              "  }\n",
              "</style>\n",
              "\n",
              "  <script>\n",
              "    async function quickchart(key) {\n",
              "      const quickchartButtonEl =\n",
              "        document.querySelector('#' + key + ' button');\n",
              "      quickchartButtonEl.disabled = true;  // To prevent multiple clicks.\n",
              "      quickchartButtonEl.classList.add('colab-df-spinner');\n",
              "      try {\n",
              "        const charts = await google.colab.kernel.invokeFunction(\n",
              "            'suggestCharts', [key], {});\n",
              "      } catch (error) {\n",
              "        console.error('Error during call to suggestCharts:', error);\n",
              "      }\n",
              "      quickchartButtonEl.classList.remove('colab-df-spinner');\n",
              "      quickchartButtonEl.classList.add('colab-df-quickchart-complete');\n",
              "    }\n",
              "    (() => {\n",
              "      let quickchartButtonEl =\n",
              "        document.querySelector('#df-f1aa0686-dad2-446b-9278-8f35ba1a1a5e button');\n",
              "      quickchartButtonEl.style.display =\n",
              "        google.colab.kernel.accessAllowed ? 'block' : 'none';\n",
              "    })();\n",
              "  </script>\n",
              "</div>\n",
              "    </div>\n",
              "  </div>\n"
            ],
            "application/vnd.google.colaboratory.intrinsic+json": {
              "type": "dataframe",
              "variable_name": "X"
            }
          },
          "metadata": {},
          "execution_count": 34
        }
      ]
    },
    {
      "cell_type": "code",
      "source": [
        "from sklearn.tree import DecisionTreeClassifier\n",
        "# Разделяем данные\n",
        "X_train_multi, X_test_multi, y_train_multi, y_test_multi = train_test_split(X, y, test_size=0.3, random_state=42)\n",
        "\n",
        "# Обучаем модель\n",
        "tree_model = DecisionTreeClassifier(random_state=42, max_depth=10)\n",
        "tree_model.fit(X_train_multi, y_train_multi)\n",
        "\n",
        "# Предсказания\n",
        "y_pred_multi = tree_model.predict(X_test_multi)\n",
        ""
      ],
      "metadata": {
        "id": "xQ32ssfwtbH9"
      },
      "execution_count": null,
      "outputs": []
    },
    {
      "cell_type": "code",
      "source": [
        "\n",
        "from sklearn.metrics import classification_report\n",
        "\n",
        "print(\"\\nClassification Report:\\n\", classification_report(y_test_multi, y_pred_multi))"
      ],
      "metadata": {
        "id": "lcsHK6WltdxQ",
        "outputId": "05c8770e-4f5d-4c1b-981f-71e4cd1663aa",
        "colab": {
          "base_uri": "https://localhost:8080/"
        }
      },
      "execution_count": 36,
      "outputs": [
        {
          "output_type": "stream",
          "name": "stdout",
          "text": [
            "\n",
            "Classification Report:\n",
            "               precision    recall  f1-score   support\n",
            "\n",
            "           1       0.00      0.00      0.00         6\n",
            "           2       0.00      0.00      0.00         8\n",
            "           3       0.00      0.00      0.00         9\n",
            "           4       0.33      0.05      0.08        21\n",
            "           5       0.00      0.00      0.00        17\n",
            "           6       0.00      0.00      0.00        20\n",
            "           7       0.00      0.00      0.00         5\n",
            "           8       0.00      0.00      0.00        44\n",
            "           9       0.00      0.00      0.00         3\n",
            "          10       0.25      0.08      0.13        83\n",
            "          11       0.00      0.00      0.00         3\n",
            "          12       0.00      0.00      0.00        55\n",
            "          13       0.00      0.00      0.00         7\n",
            "          14       0.00      0.00      0.00        13\n",
            "          15       0.09      0.02      0.04       131\n",
            "          16       0.15      0.03      0.04        76\n",
            "          17       0.00      0.00      0.00         5\n",
            "          18       0.00      0.00      0.00        17\n",
            "          19       0.00      0.00      0.00         4\n",
            "          20       0.17      0.13      0.15       372\n",
            "          21       0.00      0.00      0.00         5\n",
            "          22       0.00      0.00      0.00        15\n",
            "          23       0.00      0.00      0.00         9\n",
            "          24       0.00      0.00      0.00        80\n",
            "          25       0.14      0.04      0.06       173\n",
            "          26       0.00      0.00      0.00        10\n",
            "          27       0.00      0.00      0.00        14\n",
            "          28       0.00      0.00      0.00        25\n",
            "          29       0.00      0.00      0.00         1\n",
            "          30       0.11      0.01      0.03       351\n",
            "          31       0.00      0.00      0.00         1\n",
            "          32       0.00      0.00      0.00        79\n",
            "          33       0.00      0.00      0.00        11\n",
            "          34       0.00      0.00      0.00         8\n",
            "          35       0.07      0.01      0.01       380\n",
            "          36       0.20      0.02      0.03        54\n",
            "          37       0.00      0.00      0.00        37\n",
            "          38       0.00      0.00      0.00       135\n",
            "          39       0.00      0.00      0.00         9\n",
            "          40       0.49      0.96      0.65      4510\n",
            "          41       0.00      0.00      0.00        10\n",
            "          42       0.00      0.00      0.00        69\n",
            "          43       0.00      0.00      0.00        45\n",
            "          44       0.00      0.00      0.00        66\n",
            "          45       0.13      0.00      0.01       564\n",
            "          46       0.00      0.00      0.00        32\n",
            "          47       0.00      0.00      0.00        14\n",
            "          48       0.00      0.00      0.00       172\n",
            "          49       0.00      0.00      0.00         9\n",
            "          50       0.24      0.06      0.10       836\n",
            "          51       0.00      0.00      0.00         3\n",
            "          52       0.00      0.00      0.00        34\n",
            "          53       0.00      0.00      0.00        11\n",
            "          54       0.00      0.00      0.00        14\n",
            "          55       0.00      0.00      0.00       217\n",
            "          56       0.00      0.00      0.00        36\n",
            "          57       0.00      0.00      0.00         4\n",
            "          58       0.00      0.00      0.00         6\n",
            "          59       0.00      0.00      0.00         4\n",
            "          60       0.19      0.05      0.08       473\n",
            "          62       0.00      0.00      0.00         8\n",
            "          63       0.00      0.00      0.00         2\n",
            "          64       0.00      0.00      0.00         3\n",
            "          65       0.00      0.00      0.00        72\n",
            "          66       0.00      0.00      0.00         5\n",
            "          67       0.00      0.00      0.00         2\n",
            "          68       0.00      0.00      0.00         3\n",
            "          70       0.00      0.00      0.00       104\n",
            "          72       0.00      0.00      0.00        21\n",
            "          73       0.00      0.00      0.00         1\n",
            "          75       0.00      0.00      0.00        19\n",
            "          76       0.00      0.00      0.00         1\n",
            "          77       0.00      0.00      0.00         2\n",
            "          78       0.00      0.00      0.00         3\n",
            "          80       0.00      0.00      0.00        38\n",
            "          81       0.00      0.00      0.00         2\n",
            "          84       0.00      0.00      0.00         9\n",
            "          85       0.00      0.00      0.00         4\n",
            "          88       0.00      0.00      0.00         1\n",
            "          90       0.00      0.00      0.00         8\n",
            "          94       0.00      0.00      0.00         1\n",
            "          95       0.00      0.00      0.00         1\n",
            "          98       0.00      0.00      0.00         3\n",
            "          99       0.00      0.00      0.00        31\n",
            "\n",
            "    accuracy                           0.46      9769\n",
            "   macro avg       0.03      0.02      0.02      9769\n",
            "weighted avg       0.28      0.46      0.32      9769\n",
            "\n"
          ]
        },
        {
          "output_type": "stream",
          "name": "stderr",
          "text": [
            "/usr/local/lib/python3.11/dist-packages/sklearn/metrics/_classification.py:1565: UndefinedMetricWarning: Precision is ill-defined and being set to 0.0 in labels with no predicted samples. Use `zero_division` parameter to control this behavior.\n",
            "  _warn_prf(average, modifier, f\"{metric.capitalize()} is\", len(result))\n",
            "/usr/local/lib/python3.11/dist-packages/sklearn/metrics/_classification.py:1565: UndefinedMetricWarning: Precision is ill-defined and being set to 0.0 in labels with no predicted samples. Use `zero_division` parameter to control this behavior.\n",
            "  _warn_prf(average, modifier, f\"{metric.capitalize()} is\", len(result))\n",
            "/usr/local/lib/python3.11/dist-packages/sklearn/metrics/_classification.py:1565: UndefinedMetricWarning: Precision is ill-defined and being set to 0.0 in labels with no predicted samples. Use `zero_division` parameter to control this behavior.\n",
            "  _warn_prf(average, modifier, f\"{metric.capitalize()} is\", len(result))\n"
          ]
        }
      ]
    },
    {
      "cell_type": "code",
      "source": [
        "accuracy_score(y_test_multi, y_pred_multi)"
      ],
      "metadata": {
        "id": "PJoCBu2rtfrq",
        "outputId": "b69d15e7-ca71-41e7-a2e7-f459193dd13b",
        "colab": {
          "base_uri": "https://localhost:8080/"
        }
      },
      "execution_count": 37,
      "outputs": [
        {
          "output_type": "execute_result",
          "data": {
            "text/plain": [
              "0.457365134609479"
            ]
          },
          "metadata": {},
          "execution_count": 37
        }
      ]
    },
    {
      "cell_type": "code",
      "source": [
        "from sklearn.metrics import balanced_accuracy_score\n",
        "balanced_accuracy_score(y_test_multi, y_pred_multi)"
      ],
      "metadata": {
        "id": "1pGpGaOltiMd",
        "outputId": "7bec54af-e63d-482f-8ff9-d1fd9e1edc51",
        "colab": {
          "base_uri": "https://localhost:8080/"
        }
      },
      "execution_count": 38,
      "outputs": [
        {
          "output_type": "execute_result",
          "data": {
            "text/plain": [
              "0.017431491105645215"
            ]
          },
          "metadata": {},
          "execution_count": 38
        }
      ]
    },
    {
      "cell_type": "code",
      "source": [
        "import matplotlib.pyplot as plt"
      ],
      "metadata": {
        "id": "-ucBAOthyDy0"
      },
      "execution_count": 57,
      "outputs": []
    },
    {
      "cell_type": "code",
      "source": [
        "from sklearn.tree import plot_tree"
      ],
      "metadata": {
        "id": "gqoR8JYIyiUd"
      },
      "execution_count": 58,
      "outputs": []
    },
    {
      "cell_type": "code",
      "source": [
        "\n",
        "# Обработка категориальных переменных\n",
        "df = df.rename(columns={'marital-status': 'maritalstatus', 'native-country': 'nativecountry'})\n",
        "df['old_employers'] = np.where(df['age'] >= 50, 1, 0).astype(int)\n",
        "category_columns = df.select_dtypes(include=['object']).columns.tolist()\n",
        "df[category_columns] = df[category_columns].astype('category')\n",
        "\n",
        "# One-Hot Encoding\n",
        "X = pd.get_dummies(df.drop(['old_employers', 'income >50K', 'age', 'hours-per-week'], axis=1), drop_first=True)\n",
        "y_binary = df['old_employers']\n",
        "\n",
        "# Формируем мультиклассовую переменную\n",
        "y_multi = pd.cut(\n",
        "    df['hours-per-week'],\n",
        "    bins=[0, 20, 40, 60, 80],\n",
        "    labels=[1, 2, 3, 4],\n",
        "    include_lowest=True\n",
        ")\n",
        "\n",
        "# Заполнение NaN значений в y_multi\n",
        "y_multi = y_multi.cat.add_categories([0]).fillna(0)  # Добавляем категорию 0 для NaN и заменяем\n",
        "\n",
        "# Обработка пропущенных значений\n",
        "X = X.fillna(X.median(numeric_only=True))  # Заполнение числовых пропущенных медианой\n",
        "X = X.fillna('Unknown')  # Заполнение категориальных пропущенных значений\n",
        "\n",
        "# Проверка на наличие NaN\n",
        "if X.isnull().sum().sum() > 0 or y_multi.isnull().sum() > 0:\n",
        "    raise ValueError(\"Данные содержат пропущенные значения даже после обработки!\")\n",
        "\n",
        "# **Функция для кросс-валидации**\n",
        "def cross_validation(X, y, model, n_splits=5):\n",
        "    skf = StratifiedKFold(n_splits=n_splits, shuffle=True, random_state=42)\n",
        "    metrics = {'accuracy': [], 'precision': [], 'recall': [], 'f1-score': []}\n",
        "\n",
        "    for train_idx, test_idx in skf.split(X, y):\n",
        "        X_train, X_test = X.iloc[train_idx], X.iloc[test_idx]\n",
        "        y_train, y_test = y.iloc[train_idx], y.iloc[test_idx]\n",
        "\n",
        "        model.fit(X_train, y_train)\n",
        "        y_pred = model.predict(X_test)\n",
        "\n",
        "        metrics['accuracy'].append(accuracy_score(y_test, y_pred))\n",
        "        metrics['precision'].append(precision_score(y_test, y_pred, average='weighted', zero_division=0))\n",
        "        metrics['recall'].append(recall_score(y_test, y_pred, average='weighted', zero_division=0))\n",
        "        metrics['f1-score'].append(f1_score(y_test, y_pred, average='weighted', zero_division=0))\n",
        "\n",
        "    return {metric: np.mean(scores) for metric, scores in metrics.items()}\n",
        "\n",
        "# Балансировка данных\n",
        "smote = SMOTE(random_state=42)\n",
        "under_sampler = RandomUnderSampler(random_state=42)\n",
        "\n",
        "# Бинарная классификация\n",
        "X_smote_binary, y_smote_binary = smote.fit_resample(X, y_binary)\n",
        "X_under_binary, y_under_binary = under_sampler.fit_resample(X, y_binary)\n",
        "\n",
        "binary_model = DecisionTreeClassifier(random_state=42, max_depth=5)\n",
        "\n",
        "print(\"Бинарная классификация с использованием SMOTE:\")\n",
        "print(cross_validation(X_smote_binary, y_smote_binary, binary_model))\n",
        "\n",
        "print(\"\\nБинарная классификация с использованием андерсэмплинга:\")\n",
        "print(cross_validation(X_under_binary, y_under_binary, binary_model))\n",
        "\n",
        "# Мультиклассовая классификация\n",
        "X_smote_multi, y_smote_multi = smote.fit_resample(X, y_multi)\n",
        "X_under_multi, y_under_multi = under_sampler.fit_resample(X, y_multi)\n",
        "\n",
        "multi_model = DecisionTreeClassifier(random_state=42, max_depth=5)\n",
        "\n",
        "print(\"\\nМультиклассовая классификация с использованием SMOTE:\")\n",
        "print(cross_validation(X_smote_multi, y_smote_multi, multi_model))\n",
        "\n",
        "print(\"\\nМультиклассовая классификация с использованием андерсэмплинга:\")\n",
        "print(cross_validation(X_under_multi, y_under_multi, multi_model))\n",
        "\n",
        "# Важность признаков\n",
        "multi_model.fit(X, y_multi)\n",
        "feature_importances = pd.Series(multi_model.feature_importances_, index=X.columns).sort_values(ascending=False)\n",
        "\n",
        "plt.figure(figsize=(12, 8))\n",
        "feature_importances.head(20).plot(kind='barh')\n",
        "plt.title(\"Важность признаков для мультиклассовой классификации\")\n",
        "plt.show()\n",
        "\n",
        "# Визуализация дерева\n",
        "plt.figure(figsize=(20, 15))\n",
        "plot_tree(multi_model, feature_names=X.columns, class_names=[str(cls) for cls in y_multi.cat.categories], filled=True)\n",
        "plt.show()"
      ],
      "metadata": {
        "id": "cWNRDgFYyuhF",
        "outputId": "791c3358-ddcb-4d98-c97a-1d59b074bce8",
        "colab": {
          "base_uri": "https://localhost:8080/",
          "height": 1000
        }
      },
      "execution_count": 62,
      "outputs": [
        {
          "output_type": "stream",
          "name": "stdout",
          "text": [
            "Бинарная классификация с использованием SMOTE:\n",
            "{'accuracy': 0.6875171614287445, 'precision': 0.7505831133781713, 'recall': 0.6875171614287445, 'f1-score': 0.666546741847169}\n",
            "\n",
            "Бинарная классификация с использованием андерсэмплинга:\n",
            "{'accuracy': 0.6725429065657199, 'precision': 0.7302168409118803, 'recall': 0.6725429065657199, 'f1-score': 0.6506506853911832}\n",
            "\n",
            "Мультиклассовая классификация с использованием SMOTE:\n",
            "{'accuracy': 0.3914522242170357, 'precision': 0.3980711962126186, 'recall': 0.3914522242170357, 'f1-score': 0.3826566322422441}\n",
            "\n",
            "Мультиклассовая классификация с использованием андерсэмплинга:\n",
            "{'accuracy': 0.36826923076923074, 'precision': 0.44765084154507473, 'recall': 0.36826923076923074, 'f1-score': 0.3321496282631258}\n"
          ]
        },
        {
          "output_type": "display_data",
          "data": {
            "text/plain": [
              "<Figure size 1200x800 with 1 Axes>"
            ],
            "image/png": "[encoded data removed]"
          },
          "metadata": {}
        },
        {
          "output_type": "display_data",
          "data": {
            "text/plain": [
              "<Figure size 2000x1500 with 1 Axes>"
            ],
            "image/png": "[encoded data removed]"
          },
          "metadata": {}
        }
      ]
    }
  ],
  "metadata": {
    "colab": {
      "name": "Добро пожаловать в Colaboratory!",
      "provenance": []
    },
    "kernelspec": {
      "display_name": "Python 3",
      "name": "python3"
    }
  },
  "nbformat": 4,
  "nbformat_minor": 0
}